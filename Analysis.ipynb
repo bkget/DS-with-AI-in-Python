{
 "cells": [
  {
   "cell_type": "markdown",
   "id": "0ab16d11-d03f-4a84-baab-9fee3d6634d8",
   "metadata": {},
   "source": [
    "# Exploratory Data Analysis\n",
    "\n",
    "**Task**: `Do the Data Cleaning and Analyse of the data in python - pandas.`"
   ]
  },
  {
   "cell_type": "code",
   "execution_count": 1,
   "id": "9104341b-5a6c-4df8-82ce-772c0f72b5bb",
   "metadata": {},
   "outputs": [],
   "source": [
    "import pandas as pd\n",
    "import seaborn as sns\n",
    "import matplotlib.pyplot as plt\n",
    "import scipy.stats as stats"
   ]
  },
  {
   "cell_type": "code",
   "execution_count": 18,
   "id": "eafa52ea-f6e5-4bc8-b73d-26e4a503fe40",
   "metadata": {},
   "outputs": [
    {
     "data": {
      "text/html": [
       "<div>\n",
       "<style scoped>\n",
       "    .dataframe tbody tr th:only-of-type {\n",
       "        vertical-align: middle;\n",
       "    }\n",
       "\n",
       "    .dataframe tbody tr th {\n",
       "        vertical-align: top;\n",
       "    }\n",
       "\n",
       "    .dataframe thead th {\n",
       "        text-align: right;\n",
       "    }\n",
       "</style>\n",
       "<table border=\"1\" class=\"dataframe\">\n",
       "  <thead>\n",
       "    <tr style=\"text-align: right;\">\n",
       "      <th></th>\n",
       "      <th>PassengerId</th>\n",
       "      <th>Survived</th>\n",
       "      <th>Pclass</th>\n",
       "      <th>Name</th>\n",
       "      <th>Sex</th>\n",
       "      <th>Age</th>\n",
       "      <th>SibSp</th>\n",
       "      <th>ParCh</th>\n",
       "      <th>Ticket</th>\n",
       "      <th>Fare</th>\n",
       "      <th>Cabin</th>\n",
       "      <th>Embarked</th>\n",
       "    </tr>\n",
       "  </thead>\n",
       "  <tbody>\n",
       "    <tr>\n",
       "      <th>0</th>\n",
       "      <td>1</td>\n",
       "      <td>0.0</td>\n",
       "      <td>3</td>\n",
       "      <td>Braund, Mr. Owen Harris</td>\n",
       "      <td>male</td>\n",
       "      <td>22.0</td>\n",
       "      <td>1</td>\n",
       "      <td>0</td>\n",
       "      <td>A/5 21171</td>\n",
       "      <td>7.2500</td>\n",
       "      <td>NaN</td>\n",
       "      <td>S</td>\n",
       "    </tr>\n",
       "    <tr>\n",
       "      <th>1</th>\n",
       "      <td>2</td>\n",
       "      <td>1.0</td>\n",
       "      <td>1</td>\n",
       "      <td>Cumings, Mrs. John Bradley (Florence Briggs Th...</td>\n",
       "      <td>female</td>\n",
       "      <td>38.0</td>\n",
       "      <td>1</td>\n",
       "      <td>0</td>\n",
       "      <td>PC 17599</td>\n",
       "      <td>71.2833</td>\n",
       "      <td>C85</td>\n",
       "      <td>C</td>\n",
       "    </tr>\n",
       "    <tr>\n",
       "      <th>2</th>\n",
       "      <td>3</td>\n",
       "      <td>1.0</td>\n",
       "      <td>3</td>\n",
       "      <td>Heikkinen, Miss. Laina</td>\n",
       "      <td>female</td>\n",
       "      <td>26.0</td>\n",
       "      <td>0</td>\n",
       "      <td>0</td>\n",
       "      <td>STON/O2. 3101282</td>\n",
       "      <td>7.9250</td>\n",
       "      <td>NaN</td>\n",
       "      <td>S</td>\n",
       "    </tr>\n",
       "    <tr>\n",
       "      <th>3</th>\n",
       "      <td>4</td>\n",
       "      <td>1.0</td>\n",
       "      <td>1</td>\n",
       "      <td>Futrelle, Mrs. Jacques Heath (Lily May Peel)</td>\n",
       "      <td>female</td>\n",
       "      <td>35.0</td>\n",
       "      <td>1</td>\n",
       "      <td>0</td>\n",
       "      <td>113803</td>\n",
       "      <td>53.1000</td>\n",
       "      <td>C123</td>\n",
       "      <td>S</td>\n",
       "    </tr>\n",
       "    <tr>\n",
       "      <th>4</th>\n",
       "      <td>5</td>\n",
       "      <td>0.0</td>\n",
       "      <td>3</td>\n",
       "      <td>Allen, Mr. William Henry</td>\n",
       "      <td>male</td>\n",
       "      <td>35.0</td>\n",
       "      <td>0</td>\n",
       "      <td>0</td>\n",
       "      <td>373450</td>\n",
       "      <td>8.0500</td>\n",
       "      <td>NaN</td>\n",
       "      <td>S</td>\n",
       "    </tr>\n",
       "  </tbody>\n",
       "</table>\n",
       "</div>"
      ],
      "text/plain": [
       "   PassengerId  Survived Pclass  \\\n",
       "0            1       0.0      3   \n",
       "1            2       1.0      1   \n",
       "2            3       1.0      3   \n",
       "3            4       1.0      1   \n",
       "4            5       0.0      3   \n",
       "\n",
       "                                                Name     Sex   Age  SibSp  \\\n",
       "0                            Braund, Mr. Owen Harris    male  22.0      1   \n",
       "1  Cumings, Mrs. John Bradley (Florence Briggs Th...  female  38.0      1   \n",
       "2                             Heikkinen, Miss. Laina  female  26.0      0   \n",
       "3       Futrelle, Mrs. Jacques Heath (Lily May Peel)  female  35.0      1   \n",
       "4                           Allen, Mr. William Henry    male  35.0      0   \n",
       "\n",
       "   ParCh            Ticket     Fare Cabin Embarked  \n",
       "0      0         A/5 21171   7.2500   NaN        S  \n",
       "1      0          PC 17599  71.2833   C85        C  \n",
       "2      0  STON/O2. 3101282   7.9250   NaN        S  \n",
       "3      0            113803  53.1000  C123        S  \n",
       "4      0            373450   8.0500   NaN        S  "
      ]
     },
     "execution_count": 18,
     "metadata": {},
     "output_type": "execute_result"
    }
   ],
   "source": [
    "df = pd.read_csv('data/titanic.csv', encoding='latin1')\n",
    "df.head()"
   ]
  },
  {
   "cell_type": "code",
   "execution_count": 19,
   "id": "60816231-cbe9-461c-af36-ce5428839c0b",
   "metadata": {},
   "outputs": [
    {
     "name": "stdout",
     "output_type": "stream",
     "text": [
      "<class 'pandas.core.frame.DataFrame'>\n",
      "RangeIndex: 950 entries, 0 to 949\n",
      "Data columns (total 12 columns):\n",
      " #   Column       Non-Null Count  Dtype  \n",
      "---  ------       --------------  -----  \n",
      " 0   PassengerId  950 non-null    int64  \n",
      " 1   Survived     947 non-null    float64\n",
      " 2   Pclass       950 non-null    object \n",
      " 3   Name         950 non-null    object \n",
      " 4   Sex          949 non-null    object \n",
      " 5   Age          765 non-null    float64\n",
      " 6   SibSp        950 non-null    int64  \n",
      " 7   ParCh        950 non-null    int64  \n",
      " 8   Ticket       950 non-null    object \n",
      " 9   Fare         948 non-null    float64\n",
      " 10  Cabin        219 non-null    object \n",
      " 11  Embarked     946 non-null    object \n",
      "dtypes: float64(3), int64(3), object(6)\n",
      "memory usage: 89.2+ KB\n"
     ]
    }
   ],
   "source": [
    "df.info()"
   ]
  },
  {
   "cell_type": "markdown",
   "id": "3a5a286e-9094-442b-8934-36e2b67489b2",
   "metadata": {},
   "source": [
    "## Data Analysis\n",
    "Looking into the data, the following columns have no null values:\n",
    "* PassengerId,\n",
    "* Pclass,\n",
    "* Name,\n",
    "* SibSp,\n",
    "* ParCh, and\n",
    "* Ticket       "
   ]
  },
  {
   "cell_type": "markdown",
   "id": "aead0328-d949-4fa0-ba2c-6a0039ad0596",
   "metadata": {},
   "source": [
    "### Check Categorical Columns"
   ]
  },
  {
   "cell_type": "code",
   "execution_count": 4,
   "id": "6e0ebc87-c6e9-4988-a378-748057af4e28",
   "metadata": {
    "collapsed": true,
    "jupyter": {
     "outputs_hidden": true
    },
    "scrolled": true
   },
   "outputs": [
    {
     "name": "stdout",
     "output_type": "stream",
     "text": [
      "Survived\n",
      "0.0    584\n",
      "1.0    361\n",
      "3.0      2\n",
      "Name: count, dtype: int64\n",
      "\n",
      " Pclass\n",
      "3                    521\n",
      "1                    232\n",
      "2                    195\n",
      "Daher, Mr. Shedid      1\n",
      "Samaan, Mr. Elias      1\n",
      "Name: count, dtype: int64\n",
      "\n",
      " Sex\n",
      "male      612\n",
      "female    336\n",
      "22.5        1\n",
      "Name: count, dtype: int64\n"
     ]
    }
   ],
   "source": [
    "print(df['Survived'].value_counts())\n",
    "print(\"\\n\", df['Pclass'].value_counts())\n",
    "print(\"\\n\", df['Sex'].value_counts())"
   ]
  },
  {
   "cell_type": "code",
   "execution_count": 5,
   "id": "2a4f4edc-94b4-4cd0-baee-09d15478299e",
   "metadata": {
    "collapsed": true,
    "jupyter": {
     "outputs_hidden": true
    },
    "scrolled": true
   },
   "outputs": [
    {
     "name": "stdout",
     "output_type": "stream",
     "text": [
      "SibSp\n",
      "0    644\n",
      "1    227\n",
      "2     31\n",
      "4     19\n",
      "3     17\n",
      "8      7\n",
      "5      5\n",
      "Name: count, dtype: int64\n",
      "\n",
      " ParCh\n",
      "0       722\n",
      "1       126\n",
      "2        84\n",
      "3         6\n",
      "5         5\n",
      "4         4\n",
      "6         1\n",
      "2698      1\n",
      "2662      1\n",
      "Name: count, dtype: int64\n",
      "\n",
      " Embarked\n",
      "S    680\n",
      "C    183\n",
      "Q     83\n",
      "Name: count, dtype: int64\n"
     ]
    }
   ],
   "source": [
    "print(df['SibSp'].value_counts())\n",
    "print(\"\\n\", df['ParCh'].value_counts())\n",
    "print(\"\\n\", df['Embarked'].value_counts()) "
   ]
  },
  {
   "cell_type": "markdown",
   "id": "af941d4b",
   "metadata": {},
   "source": [
    "### Treat Null Values"
   ]
  },
  {
   "cell_type": "code",
   "execution_count": 22,
   "id": "ce533c30",
   "metadata": {},
   "outputs": [
    {
     "name": "stdout",
     "output_type": "stream",
     "text": [
      "             Percent Missing\n",
      "PassengerId         0.000000\n",
      "Survived            0.315789\n",
      "Pclass              0.000000\n",
      "Name                0.000000\n",
      "Sex                 0.105263\n",
      "Age                19.473684\n",
      "SibSp               0.000000\n",
      "ParCh               0.000000\n",
      "Ticket              0.000000\n",
      "Fare                0.210526\n",
      "Cabin              76.947368\n",
      "Embarked            0.421053\n"
     ]
    }
   ],
   "source": [
    "# Check the percentage of missing values in each column\n",
    "percent_missing = df.isnull().sum() * 100 / len(df)\n",
    "missing_value_df = pd.DataFrame({'Percent Missing': percent_missing})\n",
    "print(missing_value_df)"
   ]
  },
  {
   "cell_type": "markdown",
   "id": "4e872ad0-c971-42d9-9ecc-a28a67b550fb",
   "metadata": {},
   "source": [
    "Hence the following columns null values are smaller, we can drop null valued rows since the percentage is smaller and will not going make such an impact on the data.\n",
    "* Survived\n",
    "* Sex\n",
    "* Fare, and\n",
    "* Embarked\n",
    "* Cabin - I will drop this column hence it holds almost 80% null values\n",
    "\n",
    "Then, I'll start dropping the column with a higher number of null rows, i.e., `Embarked` then see the impact on the others."
   ]
  },
  {
   "cell_type": "code",
   "execution_count": 6,
   "id": "14ac80e2-1ba4-44f5-99f1-c5f5262bb08b",
   "metadata": {},
   "outputs": [],
   "source": [
    "df.drop('Cabin', axis=1, inplace=True)"
   ]
  },
  {
   "cell_type": "code",
   "execution_count": 7,
   "id": "76d4d02e-e8c5-42cb-a7f8-bf91741b666d",
   "metadata": {},
   "outputs": [],
   "source": [
    "df.dropna(subset=['Embarked'], inplace=True)"
   ]
  },
  {
   "cell_type": "code",
   "execution_count": 8,
   "id": "72633ec7-5ace-42f9-b13a-de053f61ad55",
   "metadata": {},
   "outputs": [
    {
     "name": "stdout",
     "output_type": "stream",
     "text": [
      "<class 'pandas.core.frame.DataFrame'>\n",
      "Index: 946 entries, 0 to 949\n",
      "Data columns (total 11 columns):\n",
      " #   Column       Non-Null Count  Dtype  \n",
      "---  ------       --------------  -----  \n",
      " 0   PassengerId  946 non-null    int64  \n",
      " 1   Survived     943 non-null    float64\n",
      " 2   Pclass       946 non-null    object \n",
      " 3   Name         946 non-null    object \n",
      " 4   Sex          946 non-null    object \n",
      " 5   Age          761 non-null    float64\n",
      " 6   SibSp        946 non-null    int64  \n",
      " 7   ParCh        946 non-null    int64  \n",
      " 8   Ticket       946 non-null    object \n",
      " 9   Fare         946 non-null    float64\n",
      " 10  Embarked     946 non-null    object \n",
      "dtypes: float64(3), int64(3), object(5)\n",
      "memory usage: 88.7+ KB\n"
     ]
    }
   ],
   "source": [
    "df.info()"
   ]
  },
  {
   "cell_type": "markdown",
   "id": "d34370a2-91e2-472d-a507-8861d830112c",
   "metadata": {},
   "source": [
    "After dropping the null values from `Embarked` column, all others columns, except Survived, null valued rows are also dropped. Now let's drop Survived null valued rows as well."
   ]
  },
  {
   "cell_type": "code",
   "execution_count": 9,
   "id": "26c5eaf1-e7f6-4e14-be14-e59691eb3d6a",
   "metadata": {},
   "outputs": [
    {
     "name": "stdout",
     "output_type": "stream",
     "text": [
      "<class 'pandas.core.frame.DataFrame'>\n",
      "Index: 943 entries, 0 to 949\n",
      "Data columns (total 11 columns):\n",
      " #   Column       Non-Null Count  Dtype  \n",
      "---  ------       --------------  -----  \n",
      " 0   PassengerId  943 non-null    int64  \n",
      " 1   Survived     943 non-null    float64\n",
      " 2   Pclass       943 non-null    object \n",
      " 3   Name         943 non-null    object \n",
      " 4   Sex          943 non-null    object \n",
      " 5   Age          758 non-null    float64\n",
      " 6   SibSp        943 non-null    int64  \n",
      " 7   ParCh        943 non-null    int64  \n",
      " 8   Ticket       943 non-null    object \n",
      " 9   Fare         943 non-null    float64\n",
      " 10  Embarked     943 non-null    object \n",
      "dtypes: float64(3), int64(3), object(5)\n",
      "memory usage: 88.4+ KB\n"
     ]
    }
   ],
   "source": [
    "df.dropna(subset='Survived', inplace=True)\n",
    "df.info()"
   ]
  },
  {
   "cell_type": "markdown",
   "id": "8e4f62e7-6047-49c8-a1cd-ecfedbcdb745",
   "metadata": {},
   "source": [
    "Now its time to treat Age null values, but before that let's check the column first."
   ]
  },
  {
   "cell_type": "code",
   "execution_count": 10,
   "id": "d549972e-5ec4-4559-84b9-73f5fbdca7af",
   "metadata": {},
   "outputs": [
    {
     "name": "stdout",
     "output_type": "stream",
     "text": [
      "Min Age:  0.42 \n",
      "Max Age:  80.0 \n",
      "Avg Age:  29.853786279683376\n"
     ]
    }
   ],
   "source": [
    "print('Min Age: ', df['Age'].min(), '\\anMax Age: ', df['Age'].max(), '\\nAvg Age: ', df['Age'].mean())"
   ]
  },
  {
   "cell_type": "markdown",
   "id": "737ceee2",
   "metadata": {},
   "source": []
  },
  {
   "cell_type": "code",
   "execution_count": 11,
   "id": "752f03f0-dc7a-4169-841b-8a68cdd30e56",
   "metadata": {},
   "outputs": [
    {
     "data": {
      "text/html": [
       "<div>\n",
       "<style scoped>\n",
       "    .dataframe tbody tr th:only-of-type {\n",
       "        vertical-align: middle;\n",
       "    }\n",
       "\n",
       "    .dataframe tbody tr th {\n",
       "        vertical-align: top;\n",
       "    }\n",
       "\n",
       "    .dataframe thead th {\n",
       "        text-align: right;\n",
       "    }\n",
       "</style>\n",
       "<table border=\"1\" class=\"dataframe\">\n",
       "  <thead>\n",
       "    <tr style=\"text-align: right;\">\n",
       "      <th></th>\n",
       "      <th>PassengerId</th>\n",
       "      <th>Survived</th>\n",
       "      <th>Pclass</th>\n",
       "      <th>Name</th>\n",
       "      <th>Sex</th>\n",
       "      <th>Age</th>\n",
       "      <th>SibSp</th>\n",
       "      <th>ParCh</th>\n",
       "      <th>Ticket</th>\n",
       "      <th>Fare</th>\n",
       "      <th>Embarked</th>\n",
       "    </tr>\n",
       "  </thead>\n",
       "  <tbody>\n",
       "    <tr>\n",
       "      <th>803</th>\n",
       "      <td>804</td>\n",
       "      <td>1.0</td>\n",
       "      <td>3</td>\n",
       "      <td>Thomas, Master. Assad Alexander</td>\n",
       "      <td>male</td>\n",
       "      <td>0.42</td>\n",
       "      <td>0</td>\n",
       "      <td>1</td>\n",
       "      <td>2625</td>\n",
       "      <td>8.5167</td>\n",
       "      <td>C</td>\n",
       "    </tr>\n",
       "  </tbody>\n",
       "</table>\n",
       "</div>"
      ],
      "text/plain": [
       "     PassengerId  Survived Pclass                             Name   Sex  \\\n",
       "803          804       1.0      3  Thomas, Master. Assad Alexander  male   \n",
       "\n",
       "      Age  SibSp  ParCh Ticket    Fare Embarked  \n",
       "803  0.42      0      1   2625  8.5167        C  "
      ]
     },
     "execution_count": 11,
     "metadata": {},
     "output_type": "execute_result"
    }
   ],
   "source": [
    "df[df['Age'] == df['Age'].min()]"
   ]
  },
  {
   "cell_type": "markdown",
   "id": "0b1821b9-df26-438b-814c-0055ff7312d8",
   "metadata": {},
   "source": [
    "### Check the `Age` Distribution\n",
    "To see the Age data distribution, I will use histogram, box plot and Q-Q plots."
   ]
  },
  {
   "cell_type": "code",
   "execution_count": 12,
   "id": "d2c57923-a951-4ab3-8d04-91eba07eac3a",
   "metadata": {},
   "outputs": [
    {
     "data": {
      "image/png": "[encoded data removed]",
      "text/plain": [
       "<Figure size 640x480 with 1 Axes>"
      ]
     },
     "metadata": {},
     "output_type": "display_data"
    }
   ],
   "source": [
    "plt.hist(df['Age'], bins=10, edgecolor='k', alpha=0.7)\n",
    "plt.title('Histogram of Age')\n",
    "plt.xlabel('Age')\n",
    "plt.ylabel('Frequency')\n",
    "plt.show()"
   ]
  },
  {
   "cell_type": "markdown",
   "id": "04325680-48ae-497a-be09-927bf1c45c63",
   "metadata": {},
   "source": [
    "Based on the above Histogram plot, the data looks not normally distributed hence majority of the data is contentrated between 20-40. There is a longer tail extending towards the higher age values (up to 80), which suggests the presence of fewer older individuals. This shape is not bell-curved and indicates that the data is likely not normally distributed. This shows a right skewed data."
   ]
  },
  {
   "cell_type": "code",
   "execution_count": 13,
   "id": "bc4c5013-bc26-4145-9b12-de7754f7dcee",
   "metadata": {},
   "outputs": [
    {
     "data": {
      "image/png": "[encoded data removed]",
      "text/plain": [
       "<Figure size 640x480 with 1 Axes>"
      ]
     },
     "metadata": {},
     "output_type": "display_data"
    }
   ],
   "source": [
    "# Check for any potential outlier values\n",
    "plt.boxplot(df['Age'].dropna())  # Drop NaN values\n",
    "plt.title('Box Plot of Age')\n",
    "plt.ylabel('Age') \n",
    "plt.show()"
   ]
  },
  {
   "cell_type": "markdown",
   "id": "3112efb5-5313-4606-ab87-7eba6cc879be",
   "metadata": {},
   "source": [
    "The median is closer to the bottom of the box, indicating a right skewed data. There are outliers on the upper end, which indicates that some age values significantly deviated from the main distribution."
   ]
  },
  {
   "cell_type": "code",
   "execution_count": 14,
   "id": "c564d24f-a701-43b3-ba9b-f6efa8bce816",
   "metadata": {},
   "outputs": [
    {
     "data": {
      "image/png": "[encoded data removed]",
      "text/plain": [
       "<Figure size 640x480 with 1 Axes>"
      ]
     },
     "metadata": {},
     "output_type": "display_data"
    }
   ],
   "source": [
    "stats.probplot(df['Age'], dist=\"norm\", plot=plt)\n",
    "plt.title('Q-Q Plot of Age')\n",
    "plt.show()\n"
   ]
  },
  {
   "cell_type": "markdown",
   "id": "71d68a1b-779c-435f-bab6-4ff325fb699b",
   "metadata": {},
   "source": [
    "The points deviate considerably from the 45-degree line, especially at the upper end, showing a heavy right tail. This curve is indicative of a positively skewed distribution rather than a normal distribution.\n",
    "\n",
    "Considering the above three plots it will be better to use Median value to fill null values with since the data is skewed. "
   ]
  },
  {
   "cell_type": "code",
   "execution_count": 15,
   "id": "bb21bb7b-fc54-41bb-9d2c-6c6e70012abc",
   "metadata": {},
   "outputs": [],
   "source": [
    "df['Age'] = df['Age'].fillna(df['Age'].median())"
   ]
  },
  {
   "cell_type": "code",
   "execution_count": 16,
   "id": "3632b0d5-70d9-4bc9-9917-5d2d0402f215",
   "metadata": {},
   "outputs": [
    {
     "name": "stdout",
     "output_type": "stream",
     "text": [
      "<class 'pandas.core.frame.DataFrame'>\n",
      "Index: 943 entries, 0 to 949\n",
      "Data columns (total 11 columns):\n",
      " #   Column       Non-Null Count  Dtype  \n",
      "---  ------       --------------  -----  \n",
      " 0   PassengerId  943 non-null    int64  \n",
      " 1   Survived     943 non-null    float64\n",
      " 2   Pclass       943 non-null    object \n",
      " 3   Name         943 non-null    object \n",
      " 4   Sex          943 non-null    object \n",
      " 5   Age          943 non-null    float64\n",
      " 6   SibSp        943 non-null    int64  \n",
      " 7   ParCh        943 non-null    int64  \n",
      " 8   Ticket       943 non-null    object \n",
      " 9   Fare         943 non-null    float64\n",
      " 10  Embarked     943 non-null    object \n",
      "dtypes: float64(3), int64(3), object(5)\n",
      "memory usage: 88.4+ KB\n"
     ]
    }
   ],
   "source": [
    "df.info()"
   ]
  },
  {
   "cell_type": "markdown",
   "id": "462c49da-f5bd-4003-b1dc-8d23ac7db410",
   "metadata": {},
   "source": [
    "Now all columns hold a non-null values which makes our downstream data analysis much easier."
   ]
  },
  {
   "cell_type": "code",
   "execution_count": null,
   "id": "957bb7da-e2f5-4ac7-bd95-58ba32920031",
   "metadata": {},
   "outputs": [],
   "source": []
  }
 ],
 "metadata": {
  "kernelspec": {
   "display_name": "Python 3 (ipykernel)",
   "language": "python",
   "name": "python3"
  },
  "language_info": {
   "codemirror_mode": {
    "name": "ipython",
    "version": 3
   },
   "file_extension": ".py",
   "mimetype": "text/x-python",
   "name": "python",
   "nbconvert_exporter": "python",
   "pygments_lexer": "ipython3",
   "version": "3.12.2"
  }
 },
 "nbformat": 4,
 "nbformat_minor": 5
}
